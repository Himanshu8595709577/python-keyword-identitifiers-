{
 "cells": [
  {
   "cell_type": "code",
   "execution_count": 14,
   "id": "cf06189e-25de-4722-affb-aca656424d7a",
   "metadata": {},
   "outputs": [
    {
     "name": "stdout",
     "output_type": "stream",
     "text": [
      "hi\n"
     ]
    }
   ],
   "source": [
    "# Q. 1\n",
    "\n",
    "\"\"\"\n",
    "Python Keywords are some predefined and reserved words in Python that have special meanings.\n",
    "Keywords are used to define the syntax of the coding. \n",
    "The keyword cannot be used as an identifier, function, or variable name. \n",
    "All the keywords in Python are written in lowercase except True and False.\n",
    "\n",
    "example:- and , if , elif, break, True\n",
    "\"\"\"\n",
    "print (\"hi\")"
   ]
  },
  {
   "cell_type": "code",
   "execution_count": null,
   "id": "5e6fbf34-2a7d-4d5a-b19e-d54277b06894",
   "metadata": {},
   "outputs": [],
   "source": [
    "#Q. 2\n",
    "\n",
    "\"\"\"\n",
    "It cannot be a reserved python keyword.\n",
    "It should not contain white space.\n",
    "It can be a combination of A-Z, a-z, 0-9, or underscore.\n",
    "It should start with an alphabet character or an underscore ( _ ).\n",
    "It should not contain any special character other than an underscore ( _ ).\n",
    "\n",
    "Example :- var1, _var1, _1_var, var_1\n",
    "\"\"\""
   ]
  },
  {
   "cell_type": "code",
   "execution_count": 17,
   "id": "a5304537-b655-42b4-b8f4-4875e915d804",
   "metadata": {},
   "outputs": [
    {
     "ename": "SyntaxError",
     "evalue": "invalid syntax (1928948058.py, line 28)",
     "output_type": "error",
     "traceback": [
      "\u001b[0;36m  Cell \u001b[0;32mIn[17], line 28\u001b[0;36m\u001b[0m\n\u001b[0;31m    this i_s\u001b[0m\n\u001b[0m         ^\u001b[0m\n\u001b[0;31mSyntaxError\u001b[0m\u001b[0;31m:\u001b[0m invalid syntax\n"
     ]
    }
   ],
   "source": [
    "#Q. 3\n",
    "\n",
    "\"\"\"\n",
    "Comments :-\n",
    "Comments in Python are the lines in the code that are ignored by the interpreter during the execution of the program.\n",
    "Comments enhance the readability of the code and help the programmers to understand the code very carefully. \n",
    "It also helps in collaborating with other developers as adding comments makes it easier to explain the code.\n",
    "\n",
    "\n",
    "Comments have been an integral part of programming languages, and every language have different ways of using comments.\n",
    "-Enhance code readability\n",
    "-Explaining code to other\n",
    "-Understanding code if studied after some time\n",
    "-Documenting the steps and needs for a function\n",
    "-Sharing code with fellow developers\n",
    "-Collaborating with multiple people.\n",
    "\n",
    "#hello (single line comment)\n",
    "\n",
    "#hi\n",
    "#i \n",
    "# a \n",
    "# data \n",
    "# analyst       (multiple line comment)\n",
    "\n",
    "\"\"\"\n",
    "hi \n",
    "this i_s \n",
    "string literal \n",
    "comment\n",
    "\"\"\"\n",
    "\n",
    "\"\"\"\n",
    "print (\"hji\")"
   ]
  },
  {
   "cell_type": "code",
   "execution_count": 18,
   "id": "607ddbec-1fa5-49e5-af9f-9acd176c5b5d",
   "metadata": {},
   "outputs": [
    {
     "data": {
      "text/plain": [
       "'\\nThe primary purpose of indentation in Python is to define the scope of statements, \\nsuch as those within loops, conditionals, functions, and classes.\\nConsistent and proper indentation is crucial for the interpreter to understand the logical structure of the code.\\n'"
      ]
     },
     "execution_count": 18,
     "metadata": {},
     "output_type": "execute_result"
    }
   ],
   "source": [
    "#Q, 4\n",
    "\n",
    "\"\"\"\n",
    "The primary purpose of indentation in Python is to define the scope of statements, \n",
    "such as those within loops, conditionals, functions, and classes.\n",
    "Consistent and proper indentation is crucial for the interpreter to understand the logical structure of the code.\n",
    "\"\"\""
   ]
  },
  {
   "cell_type": "code",
   "execution_count": null,
   "id": "0d43dc63-af92-48c1-afaf-f7d47242462f",
   "metadata": {},
   "outputs": [],
   "source": [
    "#Q. 5\n",
    "\n",
    "Python is a procedural language. \n",
    "The indentation error can occur when the spaces or tabs are not placed properly.\n",
    "There will not be an issue if the interpreter does not find any issues with the spaces or tabs.\n",
    "If there is an error due to indentation, it will come in between the execution and can be a show stopper."
   ]
  }
 ],
 "metadata": {
  "kernelspec": {
   "display_name": "Python 3 (ipykernel)",
   "language": "python",
   "name": "python3"
  },
  "language_info": {
   "codemirror_mode": {
    "name": "ipython",
    "version": 3
   },
   "file_extension": ".py",
   "mimetype": "text/x-python",
   "name": "python",
   "nbconvert_exporter": "python",
   "pygments_lexer": "ipython3",
   "version": "3.10.8"
  }
 },
 "nbformat": 4,
 "nbformat_minor": 5
}
